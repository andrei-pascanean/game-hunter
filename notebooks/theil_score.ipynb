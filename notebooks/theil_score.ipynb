{
 "cells": [
  {
   "cell_type": "markdown",
   "metadata": {},
   "source": [
    "# Importing Requirements"
   ]
  },
  {
   "cell_type": "code",
   "execution_count": 2,
   "metadata": {},
   "outputs": [],
   "source": [
    "import pandas as pd\n",
    "import numpy as np"
   ]
  },
  {
   "cell_type": "markdown",
   "metadata": {},
   "source": [
    "# Declaring Helper Functions"
   ]
  },
  {
   "cell_type": "code",
   "execution_count": 3,
   "metadata": {},
   "outputs": [],
   "source": [
    "def adjusted_probs(home_odds, draw_odds, away_odds):\n",
    "\n",
    "    total_probs = sum([(1/odds) * 100 for odds in [home_odds, draw_odds, away_odds]])\n",
    "\n",
    "    return tuple(((1/odds) * 100 )/total_probs for odds in [home_odds, draw_odds, away_odds])"
   ]
  },
  {
   "cell_type": "code",
   "execution_count": 4,
   "metadata": {},
   "outputs": [
    {
     "data": {
      "text/plain": [
       "0.5709391949757351"
      ]
     },
     "execution_count": 4,
     "metadata": {},
     "output_type": "execute_result"
    }
   ],
   "source": [
    "adjusted_probs(1.67, 4, 5)[0]"
   ]
  },
  {
   "cell_type": "code",
   "execution_count": 5,
   "metadata": {},
   "outputs": [],
   "source": [
    "def theil_score(adj_home, adj_draw, adj_away):\n",
    "\n",
    "    return sum([i * np.log(1/i) for i in [adj_home, adj_draw, adj_away]])"
   ]
  },
  {
   "cell_type": "code",
   "execution_count": 6,
   "metadata": {},
   "outputs": [
    {
     "data": {
      "text/plain": [
       "1.0843346815152448"
      ]
     },
     "execution_count": 6,
     "metadata": {},
     "output_type": "execute_result"
    }
   ],
   "source": [
    "theil_score(0.368604, 0.255565, 0.375831)"
   ]
  },
  {
   "cell_type": "markdown",
   "metadata": {},
   "source": [
    "# Loading Data"
   ]
  },
  {
   "cell_type": "code",
   "execution_count": 14,
   "metadata": {},
   "outputs": [
    {
     "data": {
      "text/html": [
       "<div>\n",
       "<style scoped>\n",
       "    .dataframe tbody tr th:only-of-type {\n",
       "        vertical-align: middle;\n",
       "    }\n",
       "\n",
       "    .dataframe tbody tr th {\n",
       "        vertical-align: top;\n",
       "    }\n",
       "\n",
       "    .dataframe thead th {\n",
       "        text-align: right;\n",
       "    }\n",
       "</style>\n",
       "<table border=\"1\" class=\"dataframe\">\n",
       "  <thead>\n",
       "    <tr style=\"text-align: right;\">\n",
       "      <th></th>\n",
       "      <th>Div</th>\n",
       "      <th>Date</th>\n",
       "      <th>HomeTeam</th>\n",
       "      <th>AwayTeam</th>\n",
       "      <th>odds_home</th>\n",
       "      <th>odds_draw</th>\n",
       "      <th>odds_away</th>\n",
       "      <th>adj_home</th>\n",
       "      <th>adj_draw</th>\n",
       "      <th>adj_away</th>\n",
       "      <th>abs_diff_adj_odds</th>\n",
       "      <th>theil_score</th>\n",
       "    </tr>\n",
       "  </thead>\n",
       "  <tbody>\n",
       "    <tr>\n",
       "      <th>116</th>\n",
       "      <td>N1</td>\n",
       "      <td>2023-12-02</td>\n",
       "      <td>Volendam</td>\n",
       "      <td>Zwolle</td>\n",
       "      <td>2.60</td>\n",
       "      <td>3.75</td>\n",
       "      <td>2.55</td>\n",
       "      <td>0.368604</td>\n",
       "      <td>0.255565</td>\n",
       "      <td>0.375831</td>\n",
       "      <td>0.007228</td>\n",
       "      <td>1.084335</td>\n",
       "    </tr>\n",
       "    <tr>\n",
       "      <th>119</th>\n",
       "      <td>N1</td>\n",
       "      <td>2023-12-02</td>\n",
       "      <td>Heracles</td>\n",
       "      <td>Sparta Rotterdam</td>\n",
       "      <td>2.70</td>\n",
       "      <td>3.60</td>\n",
       "      <td>2.45</td>\n",
       "      <td>0.350626</td>\n",
       "      <td>0.262970</td>\n",
       "      <td>0.386404</td>\n",
       "      <td>0.035778</td>\n",
       "      <td>1.086142</td>\n",
       "    </tr>\n",
       "    <tr>\n",
       "      <th>120</th>\n",
       "      <td>N1</td>\n",
       "      <td>2023-12-03</td>\n",
       "      <td>Feyenoord</td>\n",
       "      <td>PSV Eindhoven</td>\n",
       "      <td>2.20</td>\n",
       "      <td>3.60</td>\n",
       "      <td>3.00</td>\n",
       "      <td>0.426540</td>\n",
       "      <td>0.260664</td>\n",
       "      <td>0.312796</td>\n",
       "      <td>0.113744</td>\n",
       "      <td>1.077434</td>\n",
       "    </tr>\n",
       "    <tr>\n",
       "      <th>118</th>\n",
       "      <td>N1</td>\n",
       "      <td>2023-12-02</td>\n",
       "      <td>Waalwijk</td>\n",
       "      <td>Excelsior</td>\n",
       "      <td>2.05</td>\n",
       "      <td>4.00</td>\n",
       "      <td>3.25</td>\n",
       "      <td>0.466577</td>\n",
       "      <td>0.239121</td>\n",
       "      <td>0.294302</td>\n",
       "      <td>0.172275</td>\n",
       "      <td>1.057793</td>\n",
       "    </tr>\n",
       "    <tr>\n",
       "      <th>117</th>\n",
       "      <td>N1</td>\n",
       "      <td>2023-12-02</td>\n",
       "      <td>For Sittard</td>\n",
       "      <td>Vitesse</td>\n",
       "      <td>2.00</td>\n",
       "      <td>3.60</td>\n",
       "      <td>3.60</td>\n",
       "      <td>0.473684</td>\n",
       "      <td>0.263158</td>\n",
       "      <td>0.263158</td>\n",
       "      <td>0.210526</td>\n",
       "      <td>1.056576</td>\n",
       "    </tr>\n",
       "  </tbody>\n",
       "</table>\n",
       "</div>"
      ],
      "text/plain": [
       "    Div       Date     HomeTeam          AwayTeam  odds_home  odds_draw  \\\n",
       "116  N1 2023-12-02     Volendam            Zwolle       2.60       3.75   \n",
       "119  N1 2023-12-02     Heracles  Sparta Rotterdam       2.70       3.60   \n",
       "120  N1 2023-12-03    Feyenoord     PSV Eindhoven       2.20       3.60   \n",
       "118  N1 2023-12-02     Waalwijk         Excelsior       2.05       4.00   \n",
       "117  N1 2023-12-02  For Sittard           Vitesse       2.00       3.60   \n",
       "\n",
       "     odds_away  adj_home  adj_draw  adj_away  abs_diff_adj_odds  theil_score  \n",
       "116       2.55  0.368604  0.255565  0.375831           0.007228     1.084335  \n",
       "119       2.45  0.350626  0.262970  0.386404           0.035778     1.086142  \n",
       "120       3.00  0.426540  0.260664  0.312796           0.113744     1.077434  \n",
       "118       3.25  0.466577  0.239121  0.294302           0.172275     1.057793  \n",
       "117       3.60  0.473684  0.263158  0.263158           0.210526     1.056576  "
      ]
     },
     "execution_count": 14,
     "metadata": {},
     "output_type": "execute_result"
    }
   ],
   "source": [
    "(\n",
    "\n",
    "    pd.read_csv('../data/N1-2.csv')\n",
    "    .filter(['Div', 'Date', 'HomeTeam', 'AwayTeam', 'B365H', 'B365D', 'B365A'])\n",
    "    .rename(columns = {\n",
    "        'B365H': 'odds_home', \n",
    "        'B365D': 'odds_draw', \n",
    "        'B365A': 'odds_away'\n",
    "    })\n",
    "    .assign(\n",
    "        Date=lambda x: pd.to_datetime(x['Date'], format='%d/%m/%Y'),\n",
    "        adj_home=lambda x: x.apply(lambda row: adjusted_probs(row['odds_home'], row['odds_draw'], row['odds_away'])[0], axis=1),\n",
    "        adj_draw=lambda x: x.apply(lambda row: adjusted_probs(row['odds_home'], row['odds_draw'], row['odds_away'])[1], axis=1),\n",
    "        adj_away=lambda x: x.apply(lambda row: adjusted_probs(row['odds_home'], row['odds_draw'], row['odds_away'])[2], axis=1),\n",
    "        abs_diff_adj_odds=lambda x: abs(x.adj_home - x.adj_away),\n",
    "        theil_score = lambda x: x.apply(lambda row: theil_score(row['adj_home'], row['adj_draw'], row['adj_away']), axis=1),\n",
    "    )\n",
    "    .query('Date >= \"2023-12-01\"') # selecting the latest round of games\n",
    "    .sort_values('abs_diff_adj_odds', ascending=True)\n",
    "    # .sort_values('theil_score', ascending=False)\n",
    "    .head(5)\n",
    ")"
   ]
  },
  {
   "cell_type": "code",
   "execution_count": null,
   "metadata": {},
   "outputs": [],
   "source": []
  }
 ],
 "metadata": {
  "kernelspec": {
   "display_name": "venv",
   "language": "python",
   "name": "python3"
  },
  "language_info": {
   "codemirror_mode": {
    "name": "ipython",
    "version": 3
   },
   "file_extension": ".py",
   "mimetype": "text/x-python",
   "name": "python",
   "nbconvert_exporter": "python",
   "pygments_lexer": "ipython3",
   "version": "3.9.6"
  }
 },
 "nbformat": 4,
 "nbformat_minor": 2
}
